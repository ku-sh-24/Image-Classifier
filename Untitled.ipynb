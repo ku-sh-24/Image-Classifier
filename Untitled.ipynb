{
 "cells": [
  {
   "cell_type": "code",
   "execution_count": null,
   "id": "c966e7d1",
   "metadata": {},
   "outputs": [
    {
     "name": "stdout",
     "output_type": "stream",
     "text": [
      "/opt/conda/lib/python3.10/site-packages/torchvision/models/_utils.py:208: UserWarning: The parameter 'pretrained' is deprecated since 0.13 and may be removed in the future, please use 'weights' instead.\n",
      "  warnings.warn(\n",
      "/opt/conda/lib/python3.10/site-packages/torchvision/models/_utils.py:223: UserWarning: Arguments other than a weight enum or `None` for 'weights' are deprecated since 0.13 and may be removed in the future. The current behavior is equivalent to passing `weights=VGG16_Weights.IMAGENET1K_V1`. You can also use `weights=VGG16_Weights.DEFAULT` to get the most up-to-date weights.\n",
      "  warnings.warn(msg)\n",
      "Downloading: \"https://download.pytorch.org/models/vgg16-397923af.pth\" to /home/student/.cache/torch/hub/checkpoints/vgg16-397923af.pth\n",
      "100%|█████████████████████████████████████████| 528M/528M [00:01<00:00, 284MB/s]\n",
      "Epoch 1/3.. Train loss: 4.387.. Valid loss: 3.717.. Valid accuracy: 23.687%\n",
      "Epoch 1/3.. Train loss: 3.555.. Valid loss: 2.705.. Valid accuracy: 40.317%\n",
      "Epoch 1/3.. Train loss: 2.953.. Valid loss: 2.022.. Valid accuracy: 51.716%\n",
      "Epoch 1/3.. Train loss: 2.454.. Valid loss: 1.522.. Valid accuracy: 61.000%\n",
      "Epoch 1/3.. Train loss: 2.188.. Valid loss: 1.280.. Valid accuracy: 67.231%\n",
      "Epoch 2/3.. Train loss: 1.848.. Valid loss: 1.040.. Valid accuracy: 70.716%\n",
      "Epoch 2/3.. Train loss: 1.642.. Valid loss: 0.958.. Valid accuracy: 72.760%\n",
      "Epoch 2/3.. Train loss: 1.595.. Valid loss: 0.927.. Valid accuracy: 72.399%\n",
      "Epoch 2/3.. Train loss: 1.496.. Valid loss: 0.744.. Valid accuracy: 81.173%\n"
     ]
    }
   ],
   "source": [
    "!python train.py --save_dir 'checkpoint_dir' --arch 'vgg16' --epochs 3 --lr 1e-3 --dropout 0.3 --hidden_layers 256 --gpu cuda data_dir "
   ]
  },
  {
   "cell_type": "code",
   "execution_count": 1,
   "id": "67571302",
   "metadata": {},
   "outputs": [
    {
     "name": "stdout",
     "output_type": "stream",
     "text": [
      "/opt/conda/lib/python3.10/site-packages/torchvision/models/_utils.py:208: UserWarning: The parameter 'pretrained' is deprecated since 0.13 and may be removed in the future, please use 'weights' instead.\n",
      "  warnings.warn(\n",
      "/opt/conda/lib/python3.10/site-packages/torchvision/models/_utils.py:223: UserWarning: Arguments other than a weight enum or `None` for 'weights' are deprecated since 0.13 and may be removed in the future. The current behavior is equivalent to passing `weights=VGG16_Weights.IMAGENET1K_V1`. You can also use `weights=VGG16_Weights.DEFAULT` to get the most up-to-date weights.\n",
      "  warnings.warn(msg)\n",
      "Downloading: \"https://download.pytorch.org/models/vgg16-397923af.pth\" to /home/student/.cache/torch/hub/checkpoints/vgg16-397923af.pth\n",
      "100%|█████████████████████████████████████████| 528M/528M [00:01<00:00, 297MB/s]\n",
      "Traceback (most recent call last):\n",
      "  File \"/workspace/cd0673/43ef1733-cf74-40a9-8c22-b6e440128200/image-classifier-part-1-workspace/home/aipnd-project/predict.py\", line 101, in <module>\n",
      "    main()\n",
      "  File \"/workspace/cd0673/43ef1733-cf74-40a9-8c22-b6e440128200/image-classifier-part-1-workspace/home/aipnd-project/predict.py\", line 89, in main\n",
      "    model=load_checkpoint(checkpoint)\n",
      "  File \"/workspace/cd0673/43ef1733-cf74-40a9-8c22-b6e440128200/image-classifier-part-1-workspace/home/aipnd-project/predict.py\", line 25, in load_checkpoint\n",
      "    checkpoint = torch.load(filepath)\n",
      "  File \"/opt/conda/lib/python3.10/site-packages/torch/serialization.py\", line 791, in load\n",
      "    with _open_file_like(f, 'rb') as opened_file:\n",
      "  File \"/opt/conda/lib/python3.10/site-packages/torch/serialization.py\", line 271, in _open_file_like\n",
      "    return _open_file(name_or_buffer, mode)\n",
      "  File \"/opt/conda/lib/python3.10/site-packages/torch/serialization.py\", line 252, in __init__\n",
      "    super().__init__(open(name, mode))\n",
      "FileNotFoundError: [Errno 2] No such file or directory: 'checkpoint.pth'\n"
     ]
    }
   ],
   "source": [
    "!python predict.py input_img --checkpoint 'checkpoint.pth' --top_k 5 --cat_to_name 'cat_to_name.json' --gpu cuda"
   ]
  },
  {
   "cell_type": "code",
   "execution_count": null,
   "id": "52dcd740",
   "metadata": {},
   "outputs": [],
   "source": []
  }
 ],
 "metadata": {
  "kernelspec": {
   "display_name": "Python 3 (ipykernel)",
   "language": "python",
   "name": "python3"
  },
  "language_info": {
   "codemirror_mode": {
    "name": "ipython",
    "version": 3
   },
   "file_extension": ".py",
   "mimetype": "text/x-python",
   "name": "python",
   "nbconvert_exporter": "python",
   "pygments_lexer": "ipython3",
   "version": "3.10.11"
  }
 },
 "nbformat": 4,
 "nbformat_minor": 5
}
